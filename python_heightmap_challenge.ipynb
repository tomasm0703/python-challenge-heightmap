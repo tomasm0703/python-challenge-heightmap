{
  "nbformat": 4,
  "nbformat_minor": 0,
  "metadata": {
    "colab": {
      "provenance": [],
      "authorship_tag": "ABX9TyOu4Iu5MIp4se8d3aa1O590",
      "include_colab_link": true
    },
    "kernelspec": {
      "name": "python3",
      "display_name": "Python 3"
    },
    "language_info": {
      "name": "python"
    }
  },
  "cells": [
    {
      "cell_type": "markdown",
      "metadata": {
        "id": "view-in-github",
        "colab_type": "text"
      },
      "source": [
        "<a href=\"https://colab.research.google.com/github/tomasm0703/python-challenge-heightmap/blob/main/python_heightmap_challenge.ipynb\" target=\"_parent\"><img src=\"https://colab.research.google.com/assets/colab-badge.svg\" alt=\"Open In Colab\"/></a>"
      ]
    },
    {
      "cell_type": "markdown",
      "source": [
        "## **CHALLENGE**\n",
        "\n",
        "We get a heightmap like below, each number corresponds to the height of a particular location, 9 is the highest, 0 is the lowest.\n",
        "\n",
        "Goal: Find the low points - locations that are lower than any of its adjacent locations (up, down, left, right).\n",
        "\n",
        "The risk level of a low point is \"1 plus its height\".\n",
        "\n",
        "Find the sum of the risk levels of all the low points.\n",
        "\n"
      ],
      "metadata": {
        "id": "sXIWsV3eDOQ6"
      }
    },
    {
      "cell_type": "markdown",
      "source": [
        "![heightmap_example.png](data:image/png;base64,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)"
      ],
      "metadata": {
        "id": "PF9-ZJUsC_7K"
      }
    },
    {
      "cell_type": "code",
      "source": [
        "import numpy as np\n",
        "\n",
        "path = \"https://raw.githubusercontent.com/tomasm0703/python-challenge-heightmap/main/input.txt\"\n",
        "data = np.genfromtxt(path, delimiter=1, dtype=int)\n",
        "data"
      ],
      "metadata": {
        "colab": {
          "base_uri": "https://localhost:8080/"
        },
        "id": "tDVHH8NhDFN6",
        "outputId": "40c9bfa1-e735-4347-fba0-5663a237403e"
      },
      "execution_count": 4,
      "outputs": [
        {
          "output_type": "execute_result",
          "data": {
            "text/plain": [
              "array([[8, 6, 7, ..., 7, 8, 9],\n",
              "       [6, 4, 5, ..., 8, 9, 2],\n",
              "       [5, 3, 5, ..., 9, 9, 0],\n",
              "       ...,\n",
              "       [9, 9, 8, ..., 6, 7, 9],\n",
              "       [9, 8, 9, ..., 8, 8, 9],\n",
              "       [8, 7, 6, ..., 9, 9, 9]])"
            ]
          },
          "metadata": {},
          "execution_count": 4
        }
      ]
    },
    {
      "cell_type": "code",
      "source": [
        "data.shape"
      ],
      "metadata": {
        "colab": {
          "base_uri": "https://localhost:8080/"
        },
        "id": "Fif5kRFcIrYU",
        "outputId": "a2404672-df65-484b-ade7-ea6a431ed4cb"
      },
      "execution_count": 5,
      "outputs": [
        {
          "output_type": "execute_result",
          "data": {
            "text/plain": [
              "(100, 100)"
            ]
          },
          "metadata": {},
          "execution_count": 5
        }
      ]
    },
    {
      "cell_type": "code",
      "source": [],
      "metadata": {
        "colab": {
          "base_uri": "https://localhost:8080/"
        },
        "id": "Pdpb-xQVMy5C",
        "outputId": "3a0844a0-f8c2-4c3b-daef-89d003c07e2f"
      },
      "execution_count": 7,
      "outputs": [
        {
          "output_type": "execute_result",
          "data": {
            "text/plain": [
              "array([[4, 5, 7, ..., 9, 8, 9],\n",
              "       [3, 5, 6, ..., 8, 9, 9],\n",
              "       [2, 3, 5, ..., 7, 6, 7],\n",
              "       ...,\n",
              "       [8, 7, 8, ..., 4, 5, 3],\n",
              "       [9, 8, 9, ..., 8, 6, 7],\n",
              "       [8, 9, 4, ..., 9, 8, 8]])"
            ]
          },
          "metadata": {},
          "execution_count": 7
        }
      ]
    },
    {
      "cell_type": "code",
      "source": [
        "low_points = []\n",
        "\n",
        "def is_low_point (idx_row, idx_col, data):\n",
        "  point = data[idx_row][idx_col]\n",
        "  lower_right_left = data[idx_row][idx_col -1] > point and  data[idx_row][idx_col + 1] > point\n",
        "  lower_top_bottom = data[idx_row - 1][idx_col] > point and  data[idx_row + 1][idx_col] > point\n",
        "  return lower_right_left and lower_top_bottom\n",
        "\n",
        "for idx_row, row in enumerate(data[1:-1], start=1):\n",
        "  for idx_col, item in enumerate(row[1:-1], start=1):\n",
        "    if is_low_point(idx_row, idx_col, data):\n",
        "      low_points.append(item)\n",
        "\n",
        "print(\"Low points\", low_points)\n",
        "print(\"Sum of risk levels:\", np.sum(np.array(low_points) + 1))"
      ],
      "metadata": {
        "colab": {
          "base_uri": "https://localhost:8080/"
        },
        "id": "sDyURe-vJQeJ",
        "outputId": "857b295c-86f5-474c-e48b-348a33e4429e"
      },
      "execution_count": 18,
      "outputs": [
        {
          "output_type": "stream",
          "name": "stdout",
          "text": [
            "Low points [5, 0, 3, 2, 0, 1, 3, 1, 1, 1, 1, 0, 1, 0, 1, 0, 1, 1, 3, 0, 4, 0, 0, 0, 1, 4, 0, 0, 5, 0, 2, 0, 0, 0, 3, 0, 0, 2, 3, 5, 0, 0, 0, 0, 0, 0, 1, 0, 4, 1, 3, 6, 4, 0, 1, 2, 1, 1, 1, 0, 2, 2, 0, 0, 0, 5, 3, 4, 2, 3, 2, 0, 1, 4, 1, 0, 0, 1, 5, 3, 1, 2, 5, 0, 1, 2, 1, 1, 0, 1, 5, 0, 2, 2, 1, 0, 0, 3, 1, 3, 0, 0, 4, 4, 0, 1, 0, 0, 2, 0, 0, 0, 1, 1, 0, 0, 5, 1, 0, 4, 0, 3, 1, 1, 0, 0, 1, 2, 1, 5, 1, 0, 1, 1, 3, 0, 0, 0, 4, 3, 1, 4, 3, 6, 3, 0, 3, 2, 1, 4, 3, 0, 0, 2, 1, 1, 3, 1, 5, 0, 0, 0, 0, 0, 2, 0, 0, 0, 0, 0, 0, 5, 2, 3, 2, 3, 2, 1, 0, 3, 2, 0, 0, 5, 3, 2, 0, 0, 1, 0, 2, 1, 1, 0, 0, 0, 0, 1, 0, 0, 0, 0, 1, 0, 1, 0, 0, 0, 1, 0, 1, 2, 0, 0, 5, 2, 0, 2, 0, 1]\n",
            "Sum of risk levels: 518\n"
          ]
        }
      ]
    },
    {
      "cell_type": "code",
      "source": [],
      "metadata": {
        "id": "Vm6KB-jsQvkS"
      },
      "execution_count": null,
      "outputs": []
    }
  ]
}